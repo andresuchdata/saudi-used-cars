{
 "cells": [
  {
   "cell_type": "code",
   "execution_count": 120,
   "metadata": {},
   "outputs": [],
   "source": [
    "\n",
    "import os\n",
    "import pandas as pd\n",
    "\n",
    "from google.cloud import bigquery\n",
    "from google.cloud import storage\n",
    "\n",
    "## sklearn module\n",
    "from sklearn.linear_model import LogisticRegression \n",
    "from sklearn.model_selection import train_test_split\n",
    "from sklearn.metrics import classification_report\n",
    "from sklearn.preprocessing import LabelEncoder\n",
    "import pickle\n",
    "\n",
    "from sklearn.pipeline import Pipeline\n",
    "from sklearn.compose import ColumnTransformer\n",
    "from sklearn.preprocessing import StandardScaler, OneHotEncoder, MinMaxScaler, OrdinalEncoder, TargetEncoder\n"
   ]
  },
  {
   "cell_type": "code",
   "execution_count": 74,
   "metadata": {},
   "outputs": [],
   "source": [
    "os.environ['GOOGLE_APPLICATION_CREDENTIALS'] = \"cloud/trial_bigq.json\""
   ]
  },
  {
   "cell_type": "markdown",
   "metadata": {},
   "source": [
    "## Upload dataset to GCS for Andre Suchitra"
   ]
  },
  {
   "cell_type": "code",
   "execution_count": 75,
   "metadata": {},
   "outputs": [],
   "source": [
    "project_id = 'dtidsus'\n",
    "dataset_id = 'capstone'\n",
    "table_id = 'data_saudi_used_cars'\n",
    "region = 'us-central1'\n",
    "bucket_name = 'modul4'\n",
    "blob_name = 'andre_suchitra/saudi_used_cars.csv'"
   ]
  },
  {
   "cell_type": "code",
   "execution_count": 76,
   "metadata": {},
   "outputs": [],
   "source": [
    "client = bigquery.Client(project=project_id)\n",
    "# check list of bucket\n",
    "storage_client = storage.Client(project=project_id)\n",
    "\n"
   ]
  },
  {
   "cell_type": "code",
   "execution_count": 77,
   "metadata": {},
   "outputs": [
    {
     "name": "stdout",
     "output_type": "stream",
     "text": [
      "Uploading dataset \"andre_suchitra/saudi_used_cars.csv\" succeeded\n"
     ]
    }
   ],
   "source": [
    "try : \n",
    "    storage_client = storage.Client(project=project_id)\n",
    "    bucket = storage_client.get_bucket(bucket_name)\n",
    "    data_capstone = bucket.blob('andre_suchitra/saudi_used_cars.csv')\n",
    "    data_capstone.upload_from_filename('data/data_saudi_used_cars.csv')\n",
    "\n",
    "    print (f\"Uploading dataset \\\"{blob_name}\\\" succeeded\")\n",
    "except:\n",
    "    raise TypeError(\"An exception occurred\")"
   ]
  },
  {
   "cell_type": "markdown",
   "metadata": {},
   "source": [
    "## Validate Andre Suchitra dataset is in the blob list"
   ]
  },
  {
   "cell_type": "code",
   "execution_count": 78,
   "metadata": {},
   "outputs": [
    {
     "name": "stdout",
     "output_type": "stream",
     "text": [
      "Bril/data_ecommerce_customer_churn.csv\n",
      "Bril/model/final_model_XGB.pkl\n",
      "adji/data_daegu_apartment.csv\n",
      "afdal/data_customer_lifetime_value.csv\n",
      "andre_suchitra/model/saudi_cars_price_predictor.pkl\n",
      "andre_suchitra/saudi_cars_price_predictor.pkl\n",
      "andre_suchitra/saudi_used_cars.csv\n",
      "davis/data_ecommerce_customer_churn.csv\n",
      "davis/df_customer.csv\n",
      "diah/data_california_house.csv\n",
      "fahd/data_telco_customer_churn.csv\n",
      "huwai/data_ecommerce_customer_churn.csv\n",
      "huwai/model/model.pkl\n",
      "ilham/data_bank_marketing_campaign.csv\n",
      "ilham/data_bike_sharing.csv\n",
      "ilham/data_california_house.csv\n",
      "ilham/data_customer_lifetime_value.csv\n",
      "ilham/data_daegu_apartment.csv\n",
      "ilham/data_ecommerce_customer_churn.csv\n",
      "ilham/data_hotel_booking_demand.csv\n",
      "ilham/data_saudi_used_cars.csv\n",
      "ilham/data_telco_customer_churn.csv\n",
      "ilham/data_travel_insurance.csv\n",
      "ilham/german_dataset.csv\n",
      "ilham/model/model.pkl\n",
      "ilham/model/modelilham.pkl\n",
      "ilham/vertex-ai-deployment_old.ipynb\n",
      "kevin/telco_customer_churn_dataset.csv\n",
      "m_fahd/model/model.pkl\n",
      "niken/data_california_house.csv\n",
      "niken/model/model.pkl\n",
      "pijar/model/model.pkl\n",
      "puji/data_saudi_used_cars\n",
      "puji/data_saudi_used_cars.csv\n",
      "puji/model/model.pkl\n",
      "saini/data_saudi_used_cars.csv\n",
      "sean/data_travel_insurance.csv\n",
      "sean/model/model.pkl\n",
      "sean/model/trained_model.pkl\n",
      "sekar/data_telco_customer_churn.csv\n",
      "sekar/model/model.pkl\n",
      "theresia/data_bank_marketing_campaign.csv\n",
      "theresia/model/catboost_model2.pkl\n",
      "timothy/data_california_house.csv\n",
      "timothy/model/model.pkl\n",
      "timothyciesha/model/model.pkl\n",
      "vina/data_california_house.csv\n",
      "vina/model/model.pkl\n",
      "vina/model_xg.pkl\n"
     ]
    }
   ],
   "source": [
    "\n",
    "def check_blob_list():\n",
    "    # check list of blob\n",
    "    bucket = storage_client.get_bucket(bucket_name)\n",
    "    blobs = bucket.list_blobs()\n",
    "    for blob in blobs:\n",
    "        print(blob.name)\n",
    "\n",
    "check_blob_list()"
   ]
  },
  {
   "cell_type": "code",
   "execution_count": 79,
   "metadata": {},
   "outputs": [],
   "source": [
    "client = bigquery.Client(project='dtidsus')"
   ]
  },
  {
   "cell_type": "code",
   "execution_count": 80,
   "metadata": {},
   "outputs": [
    {
     "name": "stdout",
     "output_type": "stream",
     "text": [
      "<google.cloud.bigquery.table.RowIterator object at 0x3145c09e0>\n"
     ]
    }
   ],
   "source": [
    "query_job = client.query(f\"\"\"select * from {dataset_id}.{table_id}\"\"\")\n",
    "\n",
    "# print the result\n",
    "print(query_job.result())"
   ]
  },
  {
   "cell_type": "code",
   "execution_count": 81,
   "metadata": {},
   "outputs": [
    {
     "name": "stderr",
     "output_type": "stream",
     "text": [
      "/Users/andresuchitra/dev/saudi-used-cars/.venv/lib/python3.12/site-packages/google/cloud/bigquery/table.py:1727: UserWarning: BigQuery Storage module not found, fetch data with the REST endpoint instead.\n",
      "  warnings.warn(\n"
     ]
    }
   ],
   "source": [
    "\n",
    "df = query_job.result().to_dataframe()"
   ]
  },
  {
   "cell_type": "code",
   "execution_count": 82,
   "metadata": {},
   "outputs": [
    {
     "data": {
      "text/html": [
       "<div>\n",
       "<style scoped>\n",
       "    .dataframe tbody tr th:only-of-type {\n",
       "        vertical-align: middle;\n",
       "    }\n",
       "\n",
       "    .dataframe tbody tr th {\n",
       "        vertical-align: top;\n",
       "    }\n",
       "\n",
       "    .dataframe thead th {\n",
       "        text-align: right;\n",
       "    }\n",
       "</style>\n",
       "<table border=\"1\" class=\"dataframe\">\n",
       "  <thead>\n",
       "    <tr style=\"text-align: right;\">\n",
       "      <th></th>\n",
       "      <th>Type</th>\n",
       "      <th>Region</th>\n",
       "      <th>Make</th>\n",
       "      <th>Gear_Type</th>\n",
       "      <th>Origin</th>\n",
       "      <th>Options</th>\n",
       "      <th>Year</th>\n",
       "      <th>Engine_Size</th>\n",
       "      <th>Mileage</th>\n",
       "      <th>Negotiable</th>\n",
       "      <th>Price</th>\n",
       "    </tr>\n",
       "  </thead>\n",
       "  <tbody>\n",
       "    <tr>\n",
       "      <th>0</th>\n",
       "      <td>2</td>\n",
       "      <td>Riyadh</td>\n",
       "      <td>Mazda</td>\n",
       "      <td>Automatic</td>\n",
       "      <td>Saudi</td>\n",
       "      <td>Standard</td>\n",
       "      <td>2011</td>\n",
       "      <td>1.5</td>\n",
       "      <td>37000</td>\n",
       "      <td>False</td>\n",
       "      <td>14000</td>\n",
       "    </tr>\n",
       "    <tr>\n",
       "      <th>1</th>\n",
       "      <td>3</td>\n",
       "      <td>Al-Medina</td>\n",
       "      <td>Mazda</td>\n",
       "      <td>Automatic</td>\n",
       "      <td>Saudi</td>\n",
       "      <td>Standard</td>\n",
       "      <td>2018</td>\n",
       "      <td>1.8</td>\n",
       "      <td>53000</td>\n",
       "      <td>False</td>\n",
       "      <td>54000</td>\n",
       "    </tr>\n",
       "    <tr>\n",
       "      <th>2</th>\n",
       "      <td>3</td>\n",
       "      <td>Al-Medina</td>\n",
       "      <td>Mazda</td>\n",
       "      <td>Automatic</td>\n",
       "      <td>Saudi</td>\n",
       "      <td>Standard</td>\n",
       "      <td>2018</td>\n",
       "      <td>2.0</td>\n",
       "      <td>31000</td>\n",
       "      <td>False</td>\n",
       "      <td>54000</td>\n",
       "    </tr>\n",
       "    <tr>\n",
       "      <th>3</th>\n",
       "      <td>3</td>\n",
       "      <td>Al-Medina</td>\n",
       "      <td>Mazda</td>\n",
       "      <td>Automatic</td>\n",
       "      <td>Saudi</td>\n",
       "      <td>Standard</td>\n",
       "      <td>2018</td>\n",
       "      <td>2.0</td>\n",
       "      <td>47000</td>\n",
       "      <td>False</td>\n",
       "      <td>54000</td>\n",
       "    </tr>\n",
       "    <tr>\n",
       "      <th>4</th>\n",
       "      <td>3</td>\n",
       "      <td>Riyadh</td>\n",
       "      <td>Mazda</td>\n",
       "      <td>Automatic</td>\n",
       "      <td>Saudi</td>\n",
       "      <td>Semi Full</td>\n",
       "      <td>2016</td>\n",
       "      <td>2.0</td>\n",
       "      <td>104800</td>\n",
       "      <td>False</td>\n",
       "      <td>39000</td>\n",
       "    </tr>\n",
       "  </tbody>\n",
       "</table>\n",
       "</div>"
      ],
      "text/plain": [
       "  Type     Region   Make  Gear_Type Origin    Options  Year  Engine_Size  \\\n",
       "0    2     Riyadh  Mazda  Automatic  Saudi   Standard  2011          1.5   \n",
       "1    3  Al-Medina  Mazda  Automatic  Saudi   Standard  2018          1.8   \n",
       "2    3  Al-Medina  Mazda  Automatic  Saudi   Standard  2018          2.0   \n",
       "3    3  Al-Medina  Mazda  Automatic  Saudi   Standard  2018          2.0   \n",
       "4    3     Riyadh  Mazda  Automatic  Saudi  Semi Full  2016          2.0   \n",
       "\n",
       "   Mileage  Negotiable  Price  \n",
       "0    37000       False  14000  \n",
       "1    53000       False  54000  \n",
       "2    31000       False  54000  \n",
       "3    47000       False  54000  \n",
       "4   104800       False  39000  "
      ]
     },
     "execution_count": 82,
     "metadata": {},
     "output_type": "execute_result"
    }
   ],
   "source": [
    "\n",
    "result = df\n",
    "result.head()"
   ]
  },
  {
   "cell_type": "code",
   "execution_count": 83,
   "metadata": {},
   "outputs": [
    {
     "data": {
      "text/plain": [
       "Type           0\n",
       "Region         0\n",
       "Make           0\n",
       "Gear_Type      0\n",
       "Origin         0\n",
       "Options        0\n",
       "Year           0\n",
       "Engine_Size    0\n",
       "Mileage        0\n",
       "Negotiable     0\n",
       "Price          0\n",
       "dtype: int64"
      ]
     },
     "execution_count": 83,
     "metadata": {},
     "output_type": "execute_result"
    }
   ],
   "source": [
    "result.isna().sum()"
   ]
  },
  {
   "cell_type": "code",
   "execution_count": 84,
   "metadata": {},
   "outputs": [
    {
     "data": {
      "text/html": [
       "<div>\n",
       "<style scoped>\n",
       "    .dataframe tbody tr th:only-of-type {\n",
       "        vertical-align: middle;\n",
       "    }\n",
       "\n",
       "    .dataframe tbody tr th {\n",
       "        vertical-align: top;\n",
       "    }\n",
       "\n",
       "    .dataframe thead th {\n",
       "        text-align: right;\n",
       "    }\n",
       "</style>\n",
       "<table border=\"1\" class=\"dataframe\">\n",
       "  <thead>\n",
       "    <tr style=\"text-align: right;\">\n",
       "      <th></th>\n",
       "      <th>Type</th>\n",
       "      <th>Region</th>\n",
       "      <th>Make</th>\n",
       "      <th>Gear_Type</th>\n",
       "      <th>Origin</th>\n",
       "      <th>Options</th>\n",
       "      <th>Year</th>\n",
       "      <th>Engine_Size</th>\n",
       "      <th>Mileage</th>\n",
       "      <th>Negotiable</th>\n",
       "      <th>Price</th>\n",
       "    </tr>\n",
       "  </thead>\n",
       "  <tbody>\n",
       "    <tr>\n",
       "      <th>count</th>\n",
       "      <td>5624</td>\n",
       "      <td>5624</td>\n",
       "      <td>5624</td>\n",
       "      <td>5624</td>\n",
       "      <td>5624</td>\n",
       "      <td>5624</td>\n",
       "      <td>5624.0</td>\n",
       "      <td>5624.000000</td>\n",
       "      <td>5624.0</td>\n",
       "      <td>5624</td>\n",
       "      <td>5624.0</td>\n",
       "    </tr>\n",
       "    <tr>\n",
       "      <th>unique</th>\n",
       "      <td>347</td>\n",
       "      <td>27</td>\n",
       "      <td>58</td>\n",
       "      <td>2</td>\n",
       "      <td>4</td>\n",
       "      <td>3</td>\n",
       "      <td>&lt;NA&gt;</td>\n",
       "      <td>NaN</td>\n",
       "      <td>&lt;NA&gt;</td>\n",
       "      <td>2</td>\n",
       "      <td>&lt;NA&gt;</td>\n",
       "    </tr>\n",
       "    <tr>\n",
       "      <th>top</th>\n",
       "      <td>Land Cruiser</td>\n",
       "      <td>Riyadh</td>\n",
       "      <td>Toyota</td>\n",
       "      <td>Automatic</td>\n",
       "      <td>Saudi</td>\n",
       "      <td>Full</td>\n",
       "      <td>&lt;NA&gt;</td>\n",
       "      <td>NaN</td>\n",
       "      <td>&lt;NA&gt;</td>\n",
       "      <td>False</td>\n",
       "      <td>&lt;NA&gt;</td>\n",
       "    </tr>\n",
       "    <tr>\n",
       "      <th>freq</th>\n",
       "      <td>269</td>\n",
       "      <td>2272</td>\n",
       "      <td>1431</td>\n",
       "      <td>4875</td>\n",
       "      <td>4188</td>\n",
       "      <td>2233</td>\n",
       "      <td>&lt;NA&gt;</td>\n",
       "      <td>NaN</td>\n",
       "      <td>&lt;NA&gt;</td>\n",
       "      <td>3828</td>\n",
       "      <td>&lt;NA&gt;</td>\n",
       "    </tr>\n",
       "    <tr>\n",
       "      <th>mean</th>\n",
       "      <td>NaN</td>\n",
       "      <td>NaN</td>\n",
       "      <td>NaN</td>\n",
       "      <td>NaN</td>\n",
       "      <td>NaN</td>\n",
       "      <td>NaN</td>\n",
       "      <td>2014.101885</td>\n",
       "      <td>3.295430</td>\n",
       "      <td>150923.375</td>\n",
       "      <td>NaN</td>\n",
       "      <td>53074.058144</td>\n",
       "    </tr>\n",
       "    <tr>\n",
       "      <th>std</th>\n",
       "      <td>NaN</td>\n",
       "      <td>NaN</td>\n",
       "      <td>NaN</td>\n",
       "      <td>NaN</td>\n",
       "      <td>NaN</td>\n",
       "      <td>NaN</td>\n",
       "      <td>5.791606</td>\n",
       "      <td>1.515108</td>\n",
       "      <td>382835.963005</td>\n",
       "      <td>NaN</td>\n",
       "      <td>70155.340614</td>\n",
       "    </tr>\n",
       "    <tr>\n",
       "      <th>min</th>\n",
       "      <td>NaN</td>\n",
       "      <td>NaN</td>\n",
       "      <td>NaN</td>\n",
       "      <td>NaN</td>\n",
       "      <td>NaN</td>\n",
       "      <td>NaN</td>\n",
       "      <td>1963.0</td>\n",
       "      <td>1.000000</td>\n",
       "      <td>100.0</td>\n",
       "      <td>NaN</td>\n",
       "      <td>0.0</td>\n",
       "    </tr>\n",
       "    <tr>\n",
       "      <th>25%</th>\n",
       "      <td>NaN</td>\n",
       "      <td>NaN</td>\n",
       "      <td>NaN</td>\n",
       "      <td>NaN</td>\n",
       "      <td>NaN</td>\n",
       "      <td>NaN</td>\n",
       "      <td>2012.0</td>\n",
       "      <td>2.000000</td>\n",
       "      <td>38000.0</td>\n",
       "      <td>NaN</td>\n",
       "      <td>0.0</td>\n",
       "    </tr>\n",
       "    <tr>\n",
       "      <th>50%</th>\n",
       "      <td>NaN</td>\n",
       "      <td>NaN</td>\n",
       "      <td>NaN</td>\n",
       "      <td>NaN</td>\n",
       "      <td>NaN</td>\n",
       "      <td>NaN</td>\n",
       "      <td>2016.0</td>\n",
       "      <td>3.000000</td>\n",
       "      <td>103000.0</td>\n",
       "      <td>NaN</td>\n",
       "      <td>36500.0</td>\n",
       "    </tr>\n",
       "    <tr>\n",
       "      <th>75%</th>\n",
       "      <td>NaN</td>\n",
       "      <td>NaN</td>\n",
       "      <td>NaN</td>\n",
       "      <td>NaN</td>\n",
       "      <td>NaN</td>\n",
       "      <td>NaN</td>\n",
       "      <td>2018.0</td>\n",
       "      <td>4.500000</td>\n",
       "      <td>196000.0</td>\n",
       "      <td>NaN</td>\n",
       "      <td>72932.5</td>\n",
       "    </tr>\n",
       "    <tr>\n",
       "      <th>max</th>\n",
       "      <td>NaN</td>\n",
       "      <td>NaN</td>\n",
       "      <td>NaN</td>\n",
       "      <td>NaN</td>\n",
       "      <td>NaN</td>\n",
       "      <td>NaN</td>\n",
       "      <td>2022.0</td>\n",
       "      <td>9.000000</td>\n",
       "      <td>20000000.0</td>\n",
       "      <td>NaN</td>\n",
       "      <td>850000.0</td>\n",
       "    </tr>\n",
       "  </tbody>\n",
       "</table>\n",
       "</div>"
      ],
      "text/plain": [
       "                Type  Region    Make  Gear_Type Origin Options         Year  \\\n",
       "count           5624    5624    5624       5624   5624    5624       5624.0   \n",
       "unique           347      27      58          2      4       3         <NA>   \n",
       "top     Land Cruiser  Riyadh  Toyota  Automatic  Saudi    Full         <NA>   \n",
       "freq             269    2272    1431       4875   4188    2233         <NA>   \n",
       "mean             NaN     NaN     NaN        NaN    NaN     NaN  2014.101885   \n",
       "std              NaN     NaN     NaN        NaN    NaN     NaN     5.791606   \n",
       "min              NaN     NaN     NaN        NaN    NaN     NaN       1963.0   \n",
       "25%              NaN     NaN     NaN        NaN    NaN     NaN       2012.0   \n",
       "50%              NaN     NaN     NaN        NaN    NaN     NaN       2016.0   \n",
       "75%              NaN     NaN     NaN        NaN    NaN     NaN       2018.0   \n",
       "max              NaN     NaN     NaN        NaN    NaN     NaN       2022.0   \n",
       "\n",
       "        Engine_Size        Mileage Negotiable         Price  \n",
       "count   5624.000000         5624.0       5624        5624.0  \n",
       "unique          NaN           <NA>          2          <NA>  \n",
       "top             NaN           <NA>      False          <NA>  \n",
       "freq            NaN           <NA>       3828          <NA>  \n",
       "mean       3.295430     150923.375        NaN  53074.058144  \n",
       "std        1.515108  382835.963005        NaN  70155.340614  \n",
       "min        1.000000          100.0        NaN           0.0  \n",
       "25%        2.000000        38000.0        NaN           0.0  \n",
       "50%        3.000000       103000.0        NaN       36500.0  \n",
       "75%        4.500000       196000.0        NaN       72932.5  \n",
       "max        9.000000     20000000.0        NaN      850000.0  "
      ]
     },
     "execution_count": 84,
     "metadata": {},
     "output_type": "execute_result"
    }
   ],
   "source": [
    "result.describe(include='all')"
   ]
  },
  {
   "cell_type": "markdown",
   "metadata": {},
   "source": [
    "## Upload the generated model\n",
    "\n",
    "From `main.ipynb`, we already completed the model training and generation. The path should be located in `models/saudi_used_cars_predictor.pkl`\n",
    "\n",
    "We will upload the model to GCS"
   ]
  },
  {
   "cell_type": "code",
   "execution_count": 85,
   "metadata": {},
   "outputs": [
    {
     "name": "stdout",
     "output_type": "stream",
     "text": [
      "Uploading model succeeded\n"
     ]
    }
   ],
   "source": [
    "try : \n",
    "    storage_client = storage.Client(project=project_id)\n",
    "    bucket = storage_client.get_bucket(bucket_name) \n",
    "    blob_model = bucket.blob('andre_suchitra/model/model.pkl')\n",
    "    blob_model.upload_from_filename('models/saudi_cars_price_predictor.pkl')\n",
    "\n",
    "    print (f\"Uploading model succeeded\")\n",
    "except:\n",
    "    raise TypeError(\"An exception occurred\")"
   ]
  },
  {
   "cell_type": "code",
   "execution_count": 108,
   "metadata": {},
   "outputs": [
    {
     "name": "stdout",
     "output_type": "stream",
     "text": [
      "Bril/data_ecommerce_customer_churn.csv\n",
      "Bril/model/final_model_XGB.pkl\n",
      "adji/data_daegu_apartment.csv\n",
      "afdal/data_customer_lifetime_value.csv\n",
      "afdal/model.pkl\n",
      "andre_suchitra/model/model.pkl\n",
      "andre_suchitra/model/saudi_cars_price_predictor.pkl\n",
      "andre_suchitra/saudi_cars_price_predictor.pkl\n",
      "andre_suchitra/saudi_used_cars.csv\n",
      "davis/data_ecommerce_customer_churn.csv\n",
      "davis/df_customer.csv\n",
      "diah/data_california_house.csv\n",
      "fahd/data_telco_customer_churn.csv\n",
      "huwai/data_ecommerce_customer_churn.csv\n",
      "huwai/model/model.pkl\n",
      "ilham/data_bank_marketing_campaign.csv\n",
      "ilham/data_bike_sharing.csv\n",
      "ilham/data_california_house.csv\n",
      "ilham/data_customer_lifetime_value.csv\n",
      "ilham/data_daegu_apartment.csv\n",
      "ilham/data_ecommerce_customer_churn.csv\n",
      "ilham/data_hotel_booking_demand.csv\n",
      "ilham/data_saudi_used_cars.csv\n",
      "ilham/data_telco_customer_churn.csv\n",
      "ilham/data_travel_insurance.csv\n",
      "ilham/german_dataset.csv\n",
      "ilham/model/model.pkl\n",
      "ilham/model/modelilham.pkl\n",
      "ilham/vertex-ai-deployment_old.ipynb\n",
      "katriel/data_bank_marketing_campaign.csv\n",
      "katriel/model.pkl\n",
      "kevin/telco_customer_churn_dataset.csv\n",
      "kezia/model.pkl\n",
      "m_fahd/model/model.pkl\n",
      "niken/data_california_house.csv\n",
      "niken/model/model.pkl\n",
      "pijar/model/model.pkl\n",
      "puji/data_saudi_used_cars\n",
      "puji/data_saudi_used_cars.csv\n",
      "puji/model/model.pkl\n",
      "saini/data_saudi_used_cars.csv\n",
      "sean/data_travel_insurance.csv\n",
      "sean/model/model.pkl\n",
      "sean/model/trained_model.pkl\n",
      "sekar/data_telco_customer_churn.csv\n",
      "sekar/model/model.pkl\n",
      "sheila/data_telco_customer_churn.csv\n",
      "theresia/data_bank_marketing_campaign.csv\n",
      "theresia/model/catboost_model2.pkl\n",
      "theresia/model/model.pkl\n",
      "timothy/data_california_house.csv\n",
      "timothy/model/model.pkl\n",
      "timothyciesha/model/model.pkl\n",
      "vina/data_california_house.csv\n",
      "vina/model/model.pkl\n",
      "vina/model_xg.pkl\n"
     ]
    }
   ],
   "source": [
    "\n",
    "# print folders in bucket\n",
    "bucket = storage_client.get_bucket(bucket_name)\n",
    "blobs = bucket.list_blobs()\n",
    "for blob in blobs:\n",
    "    print(blob.name)\n"
   ]
  },
  {
   "cell_type": "code",
   "execution_count": 95,
   "metadata": {},
   "outputs": [],
   "source": [
    "from google.cloud import aiplatform"
   ]
  },
  {
   "cell_type": "code",
   "execution_count": 111,
   "metadata": {},
   "outputs": [],
   "source": [
    "os.environ['GOOGLE_APPLICATION_CREDENTIALS'] = \"cloud/dev_trial.json\""
   ]
  },
  {
   "cell_type": "code",
   "execution_count": 113,
   "metadata": {},
   "outputs": [
    {
     "name": "stdout",
     "output_type": "stream",
     "text": [
      "Model exists in GCS: True\n",
      "Creating Model\n",
      "Create Model backing LRO: projects/41965541199/locations/us-central1/models/889695122382389248/operations/5427069994611507200\n",
      "Model created. Resource name: projects/41965541199/locations/us-central1/models/889695122382389248@1\n",
      "To use this Model in another session:\n",
      "model = aiplatform.Model('projects/41965541199/locations/us-central1/models/889695122382389248@1')\n"
     ]
    }
   ],
   "source": [
    "aiplatform.init(project='dtidsus', location='us-central1')\n",
    "\n",
    "blob = bucket.blob('andre_suchitra/model/model.pkl')\n",
    "print(f\"Model exists in GCS: {blob.exists()}\")\n",
    "\n",
    "model = aiplatform.Model.upload(\n",
    "    display_name='andre_suchitra_model',\n",
    "    artifact_uri=f\"gs://{bucket_name}/andre_suchitra/model\",\n",
    "    serving_container_image_uri=\"us-docker.pkg.dev/vertex-ai/prediction/sklearn-cpu.1-3:latest\",\n",
    ")\n",
    "\n",
    "model.wait()"
   ]
  },
  {
   "cell_type": "code",
   "execution_count": 114,
   "metadata": {},
   "outputs": [
    {
     "name": "stdout",
     "output_type": "stream",
     "text": [
      "Creating Endpoint\n",
      "Create Endpoint backing LRO: projects/41965541199/locations/us-central1/endpoints/3101336373374746624/operations/7588797815749345280\n",
      "Endpoint created. Resource name: projects/41965541199/locations/us-central1/endpoints/3101336373374746624\n",
      "To use this Endpoint in another session:\n",
      "endpoint = aiplatform.Endpoint('projects/41965541199/locations/us-central1/endpoints/3101336373374746624')\n"
     ]
    }
   ],
   "source": [
    "endpoint = aiplatform.Endpoint.create(\n",
    "    display_name=\"andre-suchitra-endpoint-000\",\n",
    "    project='dtidsus',\n",
    "    location='us-central1',\n",
    ")"
   ]
  },
  {
   "cell_type": "code",
   "execution_count": 115,
   "metadata": {},
   "outputs": [],
   "source": [
    "min_replica_count: int = 1\n",
    "max_replica_count: int = 1"
   ]
  },
  {
   "cell_type": "code",
   "execution_count": 119,
   "metadata": {},
   "outputs": [
    {
     "name": "stdout",
     "output_type": "stream",
     "text": [
      "Deploying Model projects/41965541199/locations/us-central1/models/889695122382389248 to Endpoint : projects/41965541199/locations/us-central1/endpoints/3101336373374746624\n",
      "Deploy Endpoint model backing LRO: projects/41965541199/locations/us-central1/endpoints/3101336373374746624/operations/889693370035732480\n",
      "\n",
      "Deployment failed with error: 400 Model server exited unexpectedly. Model server logs can be found at https://console.cloud.google.com/logs/viewer?project=41965541199&resource=aiplatform.googleapis.com%2FEndpoint&advancedFilter=resource.type%3D%22aiplatform.googleapis.com%2FEndpoint%22%0Aresource.labels.endpoint_id%3D%223101336373374746624%22%0Aresource.labels.location%3D%22us-central1%22. 9: Model server exited unexpectedly. Model server logs can be found at https://console.cloud.google.com/logs/viewer?project=41965541199&resource=aiplatform.googleapis.com%2FEndpoint&advancedFilter=resource.type%3D%22aiplatform.googleapis.com%2FEndpoint%22%0Aresource.labels.endpoint_id%3D%223101336373374746624%22%0Aresource.labels.location%3D%22us-central1%22.\n"
     ]
    }
   ],
   "source": [
    "try:\n",
    "    endpoint.deploy( \n",
    "        model=model,\n",
    "        deployed_model_display_name='andre_suchitra_model',\n",
    "        machine_type='e2-standard-2',\n",
    "        min_replica_count=min_replica_count,\n",
    "        max_replica_count=max_replica_count,\n",
    "        traffic_split={\"0\": 100},\n",
    "        sync=True, \n",
    "    )\n",
    "except Exception as e:\n",
    "    print(f\"\\nDeployment failed with error: {str(e)}\")"
   ]
  },
  {
   "cell_type": "markdown",
   "metadata": {},
   "source": [
    "## Using endpoint"
   ]
  },
  {
   "cell_type": "code",
   "execution_count": 117,
   "metadata": {},
   "outputs": [],
   "source": [
    "# model endpoint data\n",
    "\n",
    "PROJECT_ID = 'dtidsus'\n",
    "ENDPOINT_ID = \"projects/41965541199/locations/us-central1/endpoints/3101336373374746624\"\n",
    "REGION = 'us-central1'\n",
    "\n"
   ]
  },
  {
   "cell_type": "code",
   "execution_count": 127,
   "metadata": {},
   "outputs": [],
   "source": [
    "numerical_features = ['Year', 'Mileage', 'Engine_Size']\n",
    "categorical_features = ['Make', 'Model', 'Type', 'Origin', 'Gear_Type', 'Options', 'Region']\n",
    "options = ['Standard', 'Semi Full', 'Full']\n",
    "\n",
    "def generate_preprocessor():\n",
    "    numeric_features = ['Mileage', 'Engine_Size']\n",
    "    ordinal_feature = ['Options']\n",
    "    binary_features = ['Gear_Type']\n",
    "    low_card_features = ['Origin']\n",
    "    high_card_features = ['Make', 'Type', 'Region']\n",
    "\n",
    "    numeric_transformer = Pipeline(steps=[\n",
    "        ('scaler', StandardScaler())\n",
    "    ])\n",
    "\n",
    "    year_transformer = Pipeline(steps=[\n",
    "        ('scaler', MinMaxScaler())\n",
    "    ])\n",
    "\n",
    "    ordinal_transformer = Pipeline(steps=[\n",
    "        ('ordinal', OrdinalEncoder(categories=[options]))\n",
    "    ])\n",
    "\n",
    "    binary_transformer = Pipeline(steps=[\n",
    "        ('onehot', OneHotEncoder(drop='first', sparse_output=False))\n",
    "    ])\n",
    "\n",
    "    low_card_transformer = Pipeline(steps=[\n",
    "        ('onehot', OneHotEncoder(sparse_output=False))\n",
    "    ])\n",
    "\n",
    "    high_card_transformer = Pipeline(steps=[\n",
    "        ('onehot', OneHotEncoder(sparse_output=False, handle_unknown='ignore'))\n",
    "    ])\n",
    "\n",
    "    # Combine transformers\n",
    "    preprocessor = ColumnTransformer(\n",
    "        transformers=[\n",
    "            ('year', year_transformer, ['Year']),\n",
    "            ('num', numeric_transformer, numeric_features),\n",
    "            ('ord', ordinal_transformer, ordinal_feature),\n",
    "            ('binary', binary_transformer, binary_features),\n",
    "            ('low_card', low_card_transformer, low_card_features),\n",
    "            ('high_card', high_card_transformer, high_card_features)\n",
    "        ],\n",
    "        remainder='drop'\n",
    "    )\n",
    "\n",
    "    return preprocessor"
   ]
  },
  {
   "cell_type": "code",
   "execution_count": null,
   "metadata": {},
   "outputs": [],
   "source": [
    "aiplatform.init(project=PROJECT_ID, location=REGION)\n",
    "endpoint = aiplatform.Endpoint(ENDPOINT_ID)\n",
    "\n",
    "preprocessor = generate_preprocessor()\n",
    "\n",
    "# Create pandas DataFrame with correct Saudi used cars data:\n",
    "new_car_data = pd.DataFrame({\n",
    "    'Type': ['Land Cruiser'],  # Example car type\n",
    "    'Region': ['Riyadh'],      # One of the Saudi regions\n",
    "    'Make': ['Toyota'],        # Car manufacturer\n",
    "    'Gear_Type': ['Automatic'], # 'Automatic' or 'Manual'\n",
    "    'Origin': ['Saudi'],       # Car origin\n",
    "    'Options': ['Full'],       # 'Standard', 'Semi Full', or 'Full'\n",
    "    'Year': [2020],           # Car year\n",
    "    'Engine_Size': [4.0],      # Engine size in liters\n",
    "    'Mileage': [50000],       # Mileage in kilometers\n",
    "    'Negotiable': [False]      # Whether price is negotiable\n",
    "})\n",
    "\n",
    "X_processed = preprocessor.fit_transform(new_car_data)\n",
    "print(\"X_processed => \", X_processed)\n",
    "\n",
    "prediction = endpoint.predict(instances=X_processed.tolist())\n",
    "print(\"PREDICTION: \", prediction)"
   ]
  }
 ],
 "metadata": {
  "kernelspec": {
   "display_name": "base",
   "language": "python",
   "name": "python3"
  },
  "language_info": {
   "codemirror_mode": {
    "name": "ipython",
    "version": 3
   },
   "file_extension": ".py",
   "mimetype": "text/x-python",
   "name": "python",
   "nbconvert_exporter": "python",
   "pygments_lexer": "ipython3",
   "version": "3.12.7"
  }
 },
 "nbformat": 4,
 "nbformat_minor": 2
}
